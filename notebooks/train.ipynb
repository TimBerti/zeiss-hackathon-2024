{
 "cells": [
  {
   "cell_type": "code",
   "execution_count": 1,
   "metadata": {},
   "outputs": [],
   "source": [
    "import torch\n",
    "import torch.nn as nn\n",
    "import torch.optim as optim\n",
    "from torchvision.transforms import v2\n",
    "from torch.utils.data import DataLoader\n",
    "from torchvision.datasets import ImageFolder\n",
    "\n",
    "import matplotlib.pyplot as plt\n",
    "import numpy as np\n",
    "import os"
   ]
  },
  {
   "cell_type": "code",
   "execution_count": null,
   "metadata": {},
   "outputs": [],
   "source": [
    "data_dir = '../data/'\n",
    "train_dir = data_dir + 'images/train/'\n",
    "valid_dir = data_dir + 'images/valid/'\n",
    "\n",
    "transform = v2.Compose([\n",
    "    v2.Resize((256, 256)),\n",
    "    v2.RandomRotation(10),\n",
    "    v2.RandomCrop(224),\n",
    "    v2.ToImage(),\n",
    "    v2.ToDtype(torch.float32, scale=True),\n",
    "    v2.Normalize(mean=[0.485, 0.456, 0.406], std=[0.229, 0.224, 0.225]),\n",
    "])\n",
    "\n",
    "train_set = ImageFolder(train_dir, transform=transform, target_transform=None)\n",
    "valid_set = ImageFolder(valid_dir, transform=transform, target_transform=None)\n",
    "\n",
    "print(train_set.class_to_idx)\n",
    "\n",
    "fig, ax = plt.subplots(figsize=(12,8), ncols=4)\n",
    "for i in range(4):\n",
    "    image, label = train_set[i]\n",
    "\n",
    "    # change dimensions to matplotlib order, denormalize and clip RGB values to [0,1]\n",
    "    rgb_img = (image.permute(1, 2, 0).numpy() * np.array([0.229, 0.224, 0.225]) + np.array([0.485, 0.456, 0.406])).clip(0, 1)\n",
    "    \n",
    "    ax[i].imshow(rgb_img)"
   ]
  }
 ],
 "metadata": {
  "kernelspec": {
   "display_name": "p11",
   "language": "python",
   "name": "python3"
  },
  "language_info": {
   "codemirror_mode": {
    "name": "ipython",
    "version": 3
   },
   "file_extension": ".py",
   "mimetype": "text/x-python",
   "name": "python",
   "nbconvert_exporter": "python",
   "pygments_lexer": "ipython3",
   "version": "3.11.7"
  }
 },
 "nbformat": 4,
 "nbformat_minor": 2
}
